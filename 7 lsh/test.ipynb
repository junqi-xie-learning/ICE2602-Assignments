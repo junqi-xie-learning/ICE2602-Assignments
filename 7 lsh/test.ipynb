{
 "metadata": {
  "language_info": {
   "codemirror_mode": {
    "name": "ipython",
    "version": 3
   },
   "file_extension": ".py",
   "mimetype": "text/x-python",
   "name": "python",
   "nbconvert_exporter": "python",
   "pygments_lexer": "ipython3",
   "version": "3.8.5-final"
  },
  "orig_nbformat": 2,
  "kernelspec": {
   "name": "python3",
   "display_name": "Python 3",
   "language": "python"
  }
 },
 "nbformat": 4,
 "nbformat_minor": 2,
 "cells": [
  {
   "source": [
    "# Lab 7: LSH"
   ],
   "cell_type": "markdown",
   "metadata": {}
  },
  {
   "cell_type": "code",
   "execution_count": 1,
   "metadata": {},
   "outputs": [],
   "source": [
    "import cv2\n",
    "import numpy as np\n",
    "from matplotlib import pyplot as plt"
   ]
  },
  {
   "cell_type": "code",
   "execution_count": 2,
   "metadata": {},
   "outputs": [],
   "source": [
    "import time\n",
    "def time_execution(code):\n",
    "    start = time.perf_counter()\n",
    "    result = eval(code)\n",
    "    run_time = time.perf_counter() - start\n",
    "    return run_time, result"
   ]
  },
  {
   "source": [
    "## Load Images"
   ],
   "cell_type": "markdown",
   "metadata": {}
  },
  {
   "cell_type": "code",
   "execution_count": 3,
   "metadata": {},
   "outputs": [],
   "source": [
    "imgs = []\n",
    "for i in range(1, 41):\n",
    "    filename = \"{}.jpg\".format(i)\n",
    "    img_bgr = cv2.imread('dataset/{}'.format(filename))\n",
    "    img_rgb = cv2.cvtColor(img_bgr, cv2.COLOR_BGR2RGB)\n",
    "    imgs.append(img_rgb.copy())\n",
    "\n",
    "target_bgr = cv2.imread('target.jpg')\n",
    "target = cv2.cvtColor(target_bgr, cv2.COLOR_BGR2RGB)"
   ]
  },
  {
   "source": [
    "## Feature Extracting"
   ],
   "cell_type": "markdown",
   "metadata": {}
  },
  {
   "cell_type": "code",
   "execution_count": 4,
   "metadata": {},
   "outputs": [
    {
     "output_type": "stream",
     "name": "stdout",
     "text": [
      "[2 2 0 2 2 0 2 2 0 2 2 0]\n[1 1 0 1 1 0 1 2 0 1 1 1]\n[2 2 0 2 1 0 2 2 0 2 1 0]\n[2 2 0 1 2 0 1 1 1 0 1 2]\n[1 1 1 2 1 0 2 1 0 2 1 0]\n[1 2 0 2 2 0 2 2 0 2 2 0]\n[1 1 1 1 1 1 1 1 1 1 1 1]\n[1 1 1 2 1 0 1 1 0 2 1 0]\n[2 2 0 2 2 0 2 2 0 2 2 0]\n[2 1 0 2 1 0 2 1 0 2 1 0]\n[0 2 2 0 2 2 0 2 2 0 2 2]\n[0 0 2 2 1 0 0 0 2 2 1 0]\n[0 1 2 0 1 2 0 2 1 0 2 2]\n[2 0 0 2 0 0 2 0 0 2 0 0]\n[1 1 1 1 1 1 1 1 1 1 1 1]\n[2 0 0 2 0 0 2 0 0 2 0 0]\n[0 1 2 0 1 2 0 1 2 0 1 2]\n[1 1 0 2 1 0 2 2 0 2 1 0]\n[1 2 0 1 2 0 1 2 0 1 2 0]\n[2 2 0 2 1 0 2 1 0 2 1 0]\n[2 1 1 2 1 0 2 1 1 2 1 0]\n[2 1 0 2 0 0 2 0 0 2 0 0]\n[0 0 2 1 1 2 0 0 2 0 0 2]\n[1 1 1 1 1 0 2 2 0 1 1 1]\n[1 1 1 2 0 0 1 1 1 2 0 0]\n[0 1 2 0 1 1 0 0 2 1 1 1]\n[2 0 0 2 0 0 2 0 0 2 0 0]\n[1 1 1 1 1 1 1 1 1 1 1 1]\n[1 1 1 1 1 1 2 1 0 1 1 1]\n[1 1 1 1 1 1 1 1 1 1 1 1]\n[2 0 2 1 0 2 2 0 1 2 0 1]\n[1 1 1 1 1 1 1 1 0 1 1 1]\n[2 2 0 2 1 0 2 1 0 2 0 0]\n[1 2 0 1 2 0 0 2 0 1 2 0]\n[2 0 0 2 0 0 2 0 0 2 0 0]\n[0 0 2 0 0 2 0 0 2 0 0 2]\n[0 1 2 0 1 2 0 2 2 0 1 2]\n[0 1 2 2 1 0 0 1 2 2 1 0]\n[1 1 0 2 0 0 2 1 0 2 1 0]\n[0 0 2 0 1 2 0 0 2 2 1 0]\n"
     ]
    }
   ],
   "source": [
    "import features\n",
    "\n",
    "img_features = []\n",
    "for img in imgs:\n",
    "    feature = features.extract(img)\n",
    "    img_features.append(feature)\n",
    "    print(feature)"
   ]
  },
  {
   "source": [
    "## Image Matching using LSH"
   ],
   "cell_type": "markdown",
   "metadata": {}
  },
  {
   "cell_type": "code",
   "execution_count": 5,
   "metadata": {},
   "outputs": [],
   "source": [
    "import lsh\n",
    "\n",
    "table = lsh.LSHashTable(4, 12, 6)\n",
    "for i, feature in enumerate(img_features):\n",
    "    table.insert(feature, i + 1)"
   ]
  },
  {
   "cell_type": "code",
   "execution_count": 6,
   "metadata": {},
   "outputs": [
    {
     "output_type": "stream",
     "name": "stdout",
     "text": [
      "result: 38, time: 0.00021160199958103476\n"
     ]
    }
   ],
   "source": [
    "target_feature = features.extract(target)\n",
    "run_time, result = time_execution(\"table.search(target_feature)\")\n",
    "print(\"result: {}, time: {}\".format(result, run_time))"
   ]
  },
  {
   "source": [
    "## Image Matching using KNN"
   ],
   "cell_type": "markdown",
   "metadata": {}
  },
  {
   "cell_type": "code",
   "execution_count": 7,
   "metadata": {},
   "outputs": [],
   "source": [
    "train_data = np.array(img_features, dtype='float32')\n",
    "labels = np.array(range(1, 41), dtype='float32')\n",
    "target_feature = np.array([features.extract(target)], dtype='float32')"
   ]
  },
  {
   "cell_type": "code",
   "execution_count": 8,
   "metadata": {},
   "outputs": [
    {
     "output_type": "stream",
     "name": "stdout",
     "text": [
      "result: 38, time: 0.00012410100043780403\n"
     ]
    }
   ],
   "source": [
    "knn = cv2.ml.KNearest_create()\n",
    "knn.train(train_data, cv2.ml.ROW_SAMPLE, labels)\n",
    "run_time, result = time_execution(\"knn.findNearest(target_feature, 1)\")\n",
    "print(\"result: {}, time: {}\".format(int(result[1][0][0]), run_time))"
   ]
  },
  {
   "source": [
    "## LSH with SIFT"
   ],
   "cell_type": "markdown",
   "metadata": {}
  },
  {
   "cell_type": "code",
   "execution_count": 9,
   "metadata": {
    "tags": []
   },
   "outputs": [],
   "source": [
    "import sift_features\n",
    "\n",
    "img_features = []\n",
    "for img in imgs:\n",
    "    feature = sift_features.extract(img)\n",
    "    img_features.append(feature)"
   ]
  },
  {
   "cell_type": "code",
   "execution_count": 10,
   "metadata": {},
   "outputs": [],
   "source": [
    "table = lsh.LSHashTable(16, 128, 16)\n",
    "for i, feature in enumerate(img_features):\n",
    "    table.insert(feature, i + 1)"
   ]
  },
  {
   "cell_type": "code",
   "execution_count": 11,
   "metadata": {},
   "outputs": [
    {
     "output_type": "stream",
     "name": "stdout",
     "text": [
      "result: 38, time: 0.005075263999970048\n"
     ]
    }
   ],
   "source": [
    "target_feature = sift_features.extract(target)\n",
    "run_time, result = time_execution(\"table.search(target_feature)\")\n",
    "print(\"result: {}, time: {}\".format(result, run_time))"
   ]
  }
 ]
}